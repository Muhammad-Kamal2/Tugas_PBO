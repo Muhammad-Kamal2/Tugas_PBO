{
  "nbformat": 4,
  "nbformat_minor": 0,
  "metadata": {
    "colab": {
      "provenance": [],
      "authorship_tag": "ABX9TyOH2JCJ1Hk975i8StMJ7bRF",
      "include_colab_link": true
    },
    "kernelspec": {
      "name": "python3",
      "display_name": "Python 3"
    },
    "language_info": {
      "name": "python"
    }
  },
  "cells": [
    {
      "cell_type": "markdown",
      "metadata": {
        "id": "view-in-github",
        "colab_type": "text"
      },
      "source": [
        "<a href=\"https://colab.research.google.com/github/Muhammad-Kamal2/Tugas_PBO/blob/main/Tugas_PBO.ipynb\" target=\"_parent\"><img src=\"https://colab.research.google.com/assets/colab-badge.svg\" alt=\"Open In Colab\"/></a>"
      ]
    },
    {
      "cell_type": "code",
      "execution_count": null,
      "metadata": {
        "id": "2x3-_hbqX5Zw",
        "outputId": "e68718dd-a285-4995-e165-36406e400677",
        "colab": {
          "base_uri": "https://localhost:8080/"
        }
      },
      "outputs": [
        {
          "output_type": "stream",
          "name": "stdout",
          "text": [
            "Budi details:\n",
            "Rambut: Ikal\n",
            "Warna Rambut: Hitam\n",
            "\n",
            "Michael details:\n",
            "Rambut: Lurus\n",
            "Warna Rambut: Pirang\n"
          ]
        }
      ],
      "source": [
        "# Class Variable\n",
        "classclass Person:\n",
        "    person = 'Person'\n",
        "\n",
        "    # The init method or constructor\n",
        "    def __init__(self, rambut, warna):\n",
        "        # Instance Variable\n",
        "        self.rambut = rambut\n",
        "        self.warna = warna\n",
        "\n",
        "# Objects\n",
        "Budi = Person(\"Ikal\", \"Hitam\")\n",
        "Michael = Person(\"Lurus\", \"Pirang\")\n",
        "\n",
        "print('Budi details:')\n",
        "print('Rambut:', Budi.rambut)\n",
        "print('Warna Rambut:', Budi.warna)\n",
        "\n",
        "print('\\nMichael details:')\n",
        "print('Rambut:', Michael.rambut)\n",
        "print('Warna Rambut:', Michael.warna)"
      ]
    }
  ]
}